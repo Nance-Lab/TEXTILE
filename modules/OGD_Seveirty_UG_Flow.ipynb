{
 "cells": [
  {
   "cell_type": "markdown",
   "metadata": {},
   "source": [
    "# Image Processing Module 7: Labeling and Quantifying Shape Feature Information"
   ]
  },
  {
   "cell_type": "markdown",
   "metadata": {},
   "source": [
    "### Purpose: To move from thresholding to segmentation and shape feature quantification"
   ]
  },
  {
   "cell_type": "markdown",
   "metadata": {},
   "source": [
    "Created by: Hawley Helmbrecht"
   ]
  },
  {
   "cell_type": "markdown",
   "metadata": {},
   "source": [
    "Creation Date: 11/16/2020"
   ]
  },
  {
   "cell_type": "markdown",
   "metadata": {},
   "source": [
    "Last Update: "
   ]
  },
  {
   "cell_type": "markdown",
   "metadata": {},
   "source": [
    "*Step 1: Import Necessary Packages*"
   ]
  },
  {
   "cell_type": "code",
   "execution_count": 37,
   "metadata": {},
   "outputs": [],
   "source": [
    "import numpy as np\n",
    "import pandas as pd\n",
    "from scipy import ndimage\n",
    "import os\n",
    "\n",
    "import skimage.filters\n",
    "from skimage import morphology\n",
    "from skimage.measure import label, regionprops, regionprops_table\n",
    "from skimage.color import label2rgb\n",
    "from skimage import io\n",
    "\n",
    "import matplotlib.pyplot as plt\n",
    "import matplotlib.patches as mpatches"
   ]
  },
  {
   "cell_type": "markdown",
   "metadata": {},
   "source": [
    "*Step 2: Define User Inputs*"
   ]
  },
  {
   "cell_type": "markdown",
   "metadata": {},
   "source": [
    "For this workflow you need to get the csv's of feature images folder by folder. So for each folder in the zipped file sent to you, copy in your correct folder location as a string into the folder location variable.  Remember, this provided formatting is for a Mac computer. Alter your folder location accordingly to how we learned over the summer based on your operating system\n",
    "\n",
    "Then adjust the csv_name variable to the name would like this csv named as. I have used the name of the treatment group"
   ]
  },
  {
   "cell_type": "markdown",
   "metadata": {},
   "source": [
    "You will not need to adjust the file_type_init and file_type_new variables"
   ]
  },
  {
   "cell_type": "code",
   "execution_count": 38,
   "metadata": {},
   "outputs": [],
   "source": [
    "#replace the example path from my computer with the path to the image on your computer\n",
    "\n",
    "folder_location = ''\n",
    "\n",
    "csv_name = 'xyz.csv'\n",
    "\n",
    "file_type_init = '.tif'\n",
    "file_type_new = '.png'"
   ]
  },
  {
   "cell_type": "markdown",
   "metadata": {},
   "source": [
    "Note: The cell images being read in are from the OGD Severity study by Rick Liao, Andrea Joseph, Mengying Zhang, Mike McKenna, Jeremy Filteau, and Hawley Helmbrecht within the Nance lab. It is an image taken from the thalamus with a costain DAPI/PI/Iba"
   ]
  },
  {
   "cell_type": "markdown",
   "metadata": {},
   "source": [
    "*Step 3: The Code*"
   ]
  },
  {
   "cell_type": "code",
   "execution_count": 39,
   "metadata": {},
   "outputs": [],
   "source": [
    "#Defines a function that cleans the folder input of any files excpet the ones of the type we want\n",
    "\n",
    "def folder_cleaner(folder, image_type):\n",
    "    k=0\n",
    "    for files in folder:\n",
    "        if image_type in str(files):\n",
    "            k+=1\n",
    "        else:\n",
    "            folder = np.delete(folder, np.argwhere(folder == str(files)))\n",
    "    return folder"
   ]
  },
  {
   "cell_type": "code",
   "execution_count": 40,
   "metadata": {},
   "outputs": [],
   "source": [
    "#Obtains the list of image names that the processing needs to be performed on\n",
    "\n",
    "arr = os.listdir(folder_location)\n",
    "file_list = np.asarray(arr)\n",
    "file_list = folder_cleaner(file_list, file_type_init)"
   ]
  },
  {
   "cell_type": "markdown",
   "metadata": {},
   "source": [
    "*Step 4: Getting Shape Features for our Images*"
   ]
  },
  {
   "cell_type": "markdown",
   "metadata": {},
   "source": [
    "Here you will need to add your specific shape features into the Properties section in the props variable. Make sure the names are exactly as shown in the documentation for region props and as a string separated by commas"
   ]
  },
  {
   "cell_type": "code",
   "execution_count": 41,
   "metadata": {},
   "outputs": [],
   "source": [
    "properties_list = ('area', 'bbox', 'bbox_area', 'centroid', 'convex_area', 'eccentricity', 'equivalent_diameter', 'euler_number', 'extent', 'filled_area', 'label', 'major_axis_length', 'minor_axis_length', 'moments', 'moments_central', 'moments_hu', 'moments_normalized', 'orientation', 'perimeter', 'solidity')\n",
    "\n"
   ]
  },
  {
   "cell_type": "code",
   "execution_count": 35,
   "metadata": {},
   "outputs": [],
   "source": [
    "j = 0\n",
    "for names in file_list:\n",
    "    cell_im_location = str(folder_location + '/' + file_list[0])\n",
    "    cell_im = io.imread(cell_im_location)\n",
    "    blue_cell_im = cell_im[0,:, :]\n",
    "    green_cell_im = cell_im[1,:,:]\n",
    "    thresh_otsu = skimage.filters.threshold_otsu(green_cell_im)\n",
    "    binary_otsu = green_cell_im > thresh_otsu\n",
    "    new_binary_otsu = morphology.remove_small_objects(binary_otsu, min_size=64)\n",
    "    label_image = label(new_binary_otsu)\n",
    "    new_binary_otsu = ndimage.binary_fill_holes(new_binary_otsu)\n",
    "    label_image = label(new_binary_otsu)\n",
    "    image_label_overlay = label2rgb(label_image, image=new_binary_otsu, bg_label=0)\n",
    "    from skimage import measure \n",
    "\n",
    "    #Insert your features here where the current red features are. You may want more features than what I told you to explore. \n",
    "    #Feel free to add them here as well. The computational time is pretty efficient\n",
    "    props = measure.regionprops_table(label_image, properties=(properties_list))\n",
    "   \n",
    "    if j == 0:\n",
    "        df = pd.DataFrame(props)\n",
    "    else:\n",
    "        df2 = pd.DataFrame(props)\n",
    "        df = df.append(df2)\n",
    "        \n",
    "    j = 1"
   ]
  },
  {
   "cell_type": "code",
   "execution_count": 33,
   "metadata": {},
   "outputs": [
    {
     "ename": "NameError",
     "evalue": "name 'df' is not defined",
     "output_type": "error",
     "traceback": [
      "\u001b[0;31m---------------------------------------------------------------------------\u001b[0m",
      "\u001b[0;31mNameError\u001b[0m                                 Traceback (most recent call last)",
      "\u001b[0;32m<ipython-input-33-00cf07b74dcd>\u001b[0m in \u001b[0;36m<module>\u001b[0;34m\u001b[0m\n\u001b[0;32m----> 1\u001b[0;31m \u001b[0mdf\u001b[0m\u001b[0;34m\u001b[0m\u001b[0;34m\u001b[0m\u001b[0m\n\u001b[0m",
      "\u001b[0;31mNameError\u001b[0m: name 'df' is not defined"
     ]
    }
   ],
   "source": [
    "df"
   ]
  },
  {
   "cell_type": "markdown",
   "metadata": {},
   "source": [
    "*Step 17: Saving as a CSV file*"
   ]
  },
  {
   "cell_type": "markdown",
   "metadata": {},
   "source": [
    "The following code saves the pandas dataframe as a CSV that you can open with other software.  It will be saved in whatever directory you opened jupyter notebook or jupyuter lab from"
   ]
  },
  {
   "cell_type": "code",
   "execution_count": 8,
   "metadata": {},
   "outputs": [
    {
     "ename": "NameError",
     "evalue": "name 'df' is not defined",
     "output_type": "error",
     "traceback": [
      "\u001b[0;31m---------------------------------------------------------------------------\u001b[0m",
      "\u001b[0;31mNameError\u001b[0m                                 Traceback (most recent call last)",
      "\u001b[0;32m<ipython-input-8-8d526d929f1e>\u001b[0m in \u001b[0;36m<module>\u001b[0;34m\u001b[0m\n\u001b[0;32m----> 1\u001b[0;31m \u001b[0mdf\u001b[0m\u001b[0;34m.\u001b[0m\u001b[0mto_csv\u001b[0m\u001b[0;34m(\u001b[0m\u001b[0mcsv_name\u001b[0m\u001b[0;34m)\u001b[0m\u001b[0;34m\u001b[0m\u001b[0;34m\u001b[0m\u001b[0m\n\u001b[0m",
      "\u001b[0;31mNameError\u001b[0m: name 'df' is not defined"
     ]
    }
   ],
   "source": [
    "df.to_csv(csv_name)"
   ]
  },
  {
   "cell_type": "code",
   "execution_count": null,
   "metadata": {},
   "outputs": [],
   "source": []
  },
  {
   "cell_type": "markdown",
   "metadata": {},
   "source": [
    "Now, I want you to repeat this process for each treatment group folder. Then it is up to you to begin visualizing the features with respect to the treatment groups\n",
    "\n",
    "I recommend doing visualization in the following process:\n",
    "1. By Generalized treatment group. (NT vs Injured vs Injured with Treatment)\n",
    "2. By specific treatment groups (NT, OGD 0.5h, OGD 1.5h, OGD 3h ... etc)\n",
    "3. Group by generalized treatment group and region (You will need to reorganize folders for this or add some lines to the code to provide you region based on file name)\n",
    "4. Generally group regions without treatment group (hippocampus,  cortex, thalamus)\n",
    "5. Specific treatment groups by region\n",
    "\n",
    "And then in whatever way you were lead to based on your data"
   ]
  },
  {
   "cell_type": "code",
   "execution_count": null,
   "metadata": {},
   "outputs": [],
   "source": []
  },
  {
   "cell_type": "code",
   "execution_count": null,
   "metadata": {},
   "outputs": [],
   "source": []
  }
 ],
 "metadata": {
  "kernelspec": {
   "display_name": "Python 3",
   "language": "python",
   "name": "python3"
  },
  "language_info": {
   "codemirror_mode": {
    "name": "ipython",
    "version": 3
   },
   "file_extension": ".py",
   "mimetype": "text/x-python",
   "name": "python",
   "nbconvert_exporter": "python",
   "pygments_lexer": "ipython3",
   "version": "3.7.4"
  }
 },
 "nbformat": 4,
 "nbformat_minor": 4
}
