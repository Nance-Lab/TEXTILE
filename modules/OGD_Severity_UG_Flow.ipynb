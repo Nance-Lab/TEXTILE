{
 "cells": [
  {
   "cell_type": "markdown",
   "metadata": {},
   "source": [
    "# OGD Severity Paper Undergrad Analysis Workflow"
   ]
  },
  {
   "cell_type": "markdown",
   "metadata": {},
   "source": [
    "### Purpose: To provide a workflow for Nance Lab UGs to analyze images from the OGD Severity Paper"
   ]
  },
  {
   "cell_type": "markdown",
   "metadata": {},
   "source": [
    "Created by: Hawley Helmbrecht"
   ]
  },
  {
   "cell_type": "markdown",
   "metadata": {},
   "source": [
    "Creation Date: 11/16/2020"
   ]
  },
  {
   "cell_type": "markdown",
   "metadata": {},
   "source": [
    "Last Update: "
   ]
  },
  {
   "cell_type": "markdown",
   "metadata": {},
   "source": [
    "*Step 1: Import Necessary Packages*"
   ]
  },
  {
   "cell_type": "code",
   "execution_count": 35,
   "metadata": {},
   "outputs": [],
   "source": [
    "import numpy as np\n",
    "import pandas as pd\n",
    "from scipy import ndimage\n",
    "\n",
    "import skimage.filters\n",
    "from skimage import morphology\n",
    "from skimage.measure import label, regionprops, regionprops_table\n",
    "from skimage.color import label2rgb\n",
    "from skimage import io\n",
    "from skimage import measure \n",
    "\n",
    "import wget"
   ]
  },
  {
   "cell_type": "markdown",
   "metadata": {},
   "source": [
    "*Step 2: Define User Inputs*"
   ]
  },
  {
   "cell_type": "markdown",
   "metadata": {},
   "source": [
    "For this workflow you need to get the csv's of feature images folder by folder. So for each folder in the zipped file sent to you, copy in your correct folder location as a string into the folder location variable.  Remember, this provided formatting is for a Mac computer. Alter your folder location accordingly to how we learned over the summer based on your operating system\n",
    "\n",
    "Then adjust the csv_name variable to the name would like this csv named as. I have used the name of the treatment group"
   ]
  },
  {
   "cell_type": "markdown",
   "metadata": {},
   "source": [
    "You will not need to adjust the file_type_init and file_type_new variables"
   ]
  },
  {
   "cell_type": "code",
   "execution_count": 3,
   "metadata": {},
   "outputs": [],
   "source": [
    "#replace the example path from my computer with the path to the image on your computer\n",
    "\n",
    "zenodo_url = 'https://zenodo.org/record/4302580/files/'"
   ]
  },
  {
   "cell_type": "markdown",
   "metadata": {},
   "source": [
    "Note: The cell images being read in are from the OGD Severity study by Rick Liao, Andrea Joseph, Mengying Zhang, Mike McKenna, Jeremy Filteau, and Hawley Helmbrecht within the Nance lab. It is an image taken from the thalamus with a costain DAPI/PI/Iba"
   ]
  },
  {
   "cell_type": "code",
   "execution_count": 4,
   "metadata": {},
   "outputs": [],
   "source": [
    "folder_location = ''\n",
    "\n",
    "csv_name = 'xyz.csv'\n",
    "\n",
    "file_type_init = '.tif'\n",
    "file_type_new = '.png'"
   ]
  },
  {
   "cell_type": "markdown",
   "metadata": {},
   "source": [
    "*Step X: Defining treatment groups by  slice id*"
   ]
  },
  {
   "cell_type": "code",
   "execution_count": 5,
   "metadata": {},
   "outputs": [],
   "source": [
    "nontreated_control = ['4-50-4', '4-50-7', '4-50-10', '4-50-15']\n",
    "ogd05hrs = ['4-56-1', '4-56-2', '4-56-3', '4-56-4', '4-56-5']\n",
    "ogd15hrs = ['4-56-6', '4-56-7', '4-56-8', '4-56-9', '4-56-10']\n",
    "ogd3hrs = ['4-50-1' '4-50-5', '4-50-6', '4-50-12', '4-50-14']\n",
    "ogd15hrsAZO = ['4-59-1', '4-59-2', '4-59-3', '4-59-4']\n",
    "ogd3hrsSOD = ['4-50-2', '4-50-8', '4-50-9', '4-50-11', '4-50-13']\n",
    "\n",
    "\n",
    "treatment_groups = [nontreated_control, ogd05hrs, ogd15hrs, ogd3hrs, ogd15hrsAZO, ogd3hrsSOD]\n",
    "\n",
    "zoom = '40x'\n",
    "\n",
    "regions_list = ['cortex', 'hippocampus', 'thalamus']\n",
    "\n",
    "image_number = np.arange(1,6)"
   ]
  },
  {
   "cell_type": "markdown",
   "metadata": {},
   "source": [
    "*Step X: Creating a File List from treatment groups and pup numbers*"
   ]
  },
  {
   "cell_type": "code",
   "execution_count": 6,
   "metadata": {},
   "outputs": [],
   "source": [
    "ntc_file_list = []\n",
    "ogd05hr_file_list = []\n",
    "ogd15hr_file_list = []\n",
    "ogd3hr_file_list = []\n",
    "ogd15hrsAZO_file_list = []\n",
    "ogd3hrsSOD_file_list = []\n",
    "\n",
    "\n",
    "for slices in nontreated_control:\n",
    "    for regions in regions_list:\n",
    "        for count in image_number:\n",
    "            ntc_file_name = str(slices + '_' + zoom + '_' + regions + '_' +  str(count) + '.tif')\n",
    "            ntc_file_list.append(ntc_file_name)\n",
    "            \n",
    "for slices in ogd05hrs:\n",
    "    for regions in regions_list:\n",
    "        for count in image_number:\n",
    "            ogd05hr_file_name = str(slices + '_' + zoom + '_' + regions + '_' +  str(count) + '.tif')\n",
    "            ogd05hr_file_list.append(ogd05hr_file_name)\n",
    "            \n",
    "for slices in ogd15hrs:\n",
    "    for regions in regions_list:\n",
    "        for count in image_number:\n",
    "            ogd15hr_file_name = str(slices + '_' + zoom + '_' + regions + '_' +  str(count) + '.tif')\n",
    "            ogd15hr_file_list.append(ogd15hr_file_name)\n",
    "            \n",
    "for slices in ogd3hrs:\n",
    "    for regions in regions_list:\n",
    "        for count in image_number:\n",
    "            ogd3hr_file_name = str(slices + '_' + zoom + '_' + regions + '_' +  str(count) + '.tif')\n",
    "            ogd3hr_file_list.append(ogd3hr_file_name)\n",
    "\n",
    "for slices in ogd15hrsAZO:\n",
    "    for regions in regions_list:\n",
    "        for count in image_number:\n",
    "            ogd15hrsAZO_file_name = str(slices + '_' + zoom + '_' + regions + '_' +  str(count) + '.tif')\n",
    "            ogd15hrsAZO_file_list.append(ogd15hrsAZO_file_name)\n",
    "\n",
    "for slices in ogd3hrsSOD:\n",
    "    for regions in regions_list:\n",
    "        for count in image_number:\n",
    "            ogd3hrsSOD_file_name = str(slices + '_' + zoom + '_' + regions + '_' +  str(count) + '.tif')\n",
    "            ogd3hrsSOD_file_list.append(ogd3hrsSOD_file_name)"
   ]
  },
  {
   "cell_type": "code",
   "execution_count": 7,
   "metadata": {},
   "outputs": [],
   "source": [
    "treatment_groups_file_lists = [ntc_file_list, ogd05hr_file_list, ogd15hr_file_list, ogd3hr_file_list, ogd15hrsAZO_file_list, ogd3hrsSOD_file_list]"
   ]
  },
  {
   "cell_type": "markdown",
   "metadata": {},
   "source": [
    "# Only Run the following cell if you do not already have all the files downloaded and placed into the 'images' file in this directory"
   ]
  },
  {
   "cell_type": "code",
   "execution_count": null,
   "metadata": {},
   "outputs": [],
   "source": [
    "for file_lists in treatment_groups_file_lists:\n",
    "    for names in file_lists:\n",
    "        try:\n",
    "            wget.download(zenodo_url + names + '?download=1')\n",
    "        \n",
    "        except HTTPError:\n",
    "            continue"
   ]
  },
  {
   "cell_type": "markdown",
   "metadata": {},
   "source": [
    "*Step 3: The Code*"
   ]
  },
  {
   "cell_type": "markdown",
   "metadata": {},
   "source": [
    "#Defines a function that cleans the folder input of any files excpet the ones of the type we want\n",
    "\n",
    "def folder_cleaner(folder, image_type):\n",
    "    k=0\n",
    "    for files in folder:\n",
    "        if image_type in str(files):\n",
    "            k+=1\n",
    "        else:\n",
    "            folder = np.delete(folder, np.argwhere(folder == str(files)))\n",
    "    return folder"
   ]
  },
  {
   "cell_type": "markdown",
   "metadata": {},
   "source": [
    "#Obtains the list of image names that the processing needs to be performed on\n",
    "\n",
    "arr = os.listdir(folder_location)\n",
    "file_list = np.asarray(arr)\n",
    "file_list = folder_cleaner(file_list, file_type_init)"
   ]
  },
  {
   "cell_type": "markdown",
   "metadata": {},
   "source": [
    "*Step 4: Getting Shape Features for our Images*"
   ]
  },
  {
   "cell_type": "markdown",
   "metadata": {},
   "source": [
    "Here you will need to add your specific shape features into the Properties section in the props variable. Make sure the names are exactly as shown in the documentation for region props and as a string separated by commas"
   ]
  },
  {
   "cell_type": "markdown",
   "metadata": {},
   "source": [
    "# If already downloaded images place them in a folder named ogdimages within your Downloads directory"
   ]
  },
  {
   "cell_type": "code",
   "execution_count": 15,
   "metadata": {},
   "outputs": [],
   "source": [
    "properties_list = ('area', 'bbox', 'bbox_area', 'centroid', 'convex_area', 'eccentricity', 'equivalent_diameter', 'euler_number', 'extent', 'filled_area', 'label', 'major_axis_length', 'minor_axis_length', 'moments', 'moments_central', 'moments_hu', 'moments_normalized', 'orientation', 'perimeter', 'solidity')\n"
   ]
  },
  {
   "cell_type": "code",
   "execution_count": 34,
   "metadata": {},
   "outputs": [],
   "source": [
    "j = 0\n",
    "for file_lists in treatment_groups_file_lists:\n",
    "    for names in file_lists:\n",
    "        \n",
    "        try:\n",
    "            cell_im_location = str('./ogdimages/' + names)\n",
    "            cell_im = io.imread(cell_im_location)\n",
    "            blue_cell_im = cell_im[:,:, 1]\n",
    "            green_cell_im = cell_im[:,:,0]\n",
    "            thresh_otsu = skimage.filters.threshold_otsu(green_cell_im)\n",
    "            binary_otsu = green_cell_im > thresh_otsu\n",
    "            new_binary_otsu = morphology.remove_small_objects(binary_otsu, min_size=64)\n",
    "            label_image = label(new_binary_otsu)\n",
    "            new_binary_otsu = ndimage.binary_fill_holes(new_binary_otsu)\n",
    "            label_image = label(new_binary_otsu)\n",
    "            image_label_overlay = label2rgb(label_image, image=new_binary_otsu, bg_label=0)\n",
    "\n",
    "            #Insert your features here where the current red features are. You may want more features than what I told you to explore. \n",
    "            #Feel free to add them here as well. The computational time is pretty efficient\n",
    "            props = measure.regionprops_table(label_image, properties=(properties_list))\n",
    "\n",
    "            if j == 0:\n",
    "                df = pd.DataFrame(props)\n",
    "            else:\n",
    "                df2 = pd.DataFrame(props)\n",
    "                df = df.append(df2)\n",
    "            \n",
    "        except FileNotFoundError:\n",
    "            continue\n",
    "        \n",
    "        \n",
    "\n",
    "        j = 1"
   ]
  },
  {
   "cell_type": "code",
   "execution_count": null,
   "metadata": {},
   "outputs": [],
   "source": [
    "df"
   ]
  },
  {
   "cell_type": "markdown",
   "metadata": {},
   "source": [
    "*Step 17: Saving as a CSV file*"
   ]
  },
  {
   "cell_type": "markdown",
   "metadata": {},
   "source": [
    "The following code saves the pandas dataframe as a CSV that you can open with other software.  It will be saved in whatever directory you opened jupyter notebook or jupyuter lab from"
   ]
  },
  {
   "cell_type": "code",
   "execution_count": 37,
   "metadata": {},
   "outputs": [],
   "source": [
    "df.to_csv(csv_name)"
   ]
  },
  {
   "cell_type": "markdown",
   "metadata": {},
   "source": [
    "Now, I want you to repeat this process for each treatment group folder. Then it is up to you to begin visualizing the features with respect to the treatment groups\n",
    "\n",
    "I recommend doing visualization in the following process:\n",
    "1. By Generalized treatment group. (NT vs Injured vs Injured with Treatment)\n",
    "2. By specific treatment groups (NT, OGD 0.5h, OGD 1.5h, OGD 3h ... etc)\n",
    "3. Group by generalized treatment group and region (You will need to reorganize folders for this or add some lines to the code to provide you region based on file name)\n",
    "4. Generally group regions without treatment group (hippocampus,  cortex, thalamus)\n",
    "5. Specific treatment groups by region\n",
    "\n",
    "And then in whatever way you were lead to based on your data"
   ]
  },
  {
   "cell_type": "markdown",
   "metadata": {},
   "source": [
    "*Step 18: Print dependencies*"
   ]
  },
  {
   "cell_type": "code",
   "execution_count": 7,
   "metadata": {},
   "outputs": [
    {
     "name": "stdout",
     "output_type": "stream",
     "text": [
      "The watermark extension is already loaded. To reload it, use:\n",
      "  %reload_ext watermark\n",
      "Python implementation: CPython\n",
      "Python version       : 3.7.8\n",
      "IPython version      : 5.8.0\n",
      "\n",
      "numpy     : 1.17.2\n",
      "pandas    : 0.25.1\n",
      "scipy     : 1.3.1\n",
      "skimage   : 0.17.2\n",
      "matplotlib: 3.3.1\n",
      "\n",
      "Compiler    : Clang 11.0.0 \n",
      "OS          : Darwin\n",
      "Release     : 19.4.0\n",
      "Machine     : x86_64\n",
      "Processor   : i386\n",
      "CPU cores   : 8\n",
      "Architecture: 64bit\n",
      "\n",
      "Last updated: Tue Dec 01 2020 15:34:59MST\n",
      "\n"
     ]
    }
   ],
   "source": [
    "%load_ext watermark\n",
    "\n",
    "%watermark -v -m -p numpy,pandas,scipy,skimage,matplotlib\n",
    "\n",
    "%watermark -u -n -t -z"
   ]
  },
  {
   "cell_type": "code",
   "execution_count": null,
   "metadata": {},
   "outputs": [],
   "source": []
  }
 ],
 "metadata": {
  "kernelspec": {
   "display_name": "Python 3",
   "language": "python",
   "name": "python3"
  },
  "language_info": {
   "codemirror_mode": {
    "name": "ipython",
    "version": 3
   },
   "file_extension": ".py",
   "mimetype": "text/x-python",
   "name": "python",
   "nbconvert_exporter": "python",
   "pygments_lexer": "ipython3",
   "version": "3.7.8"
  }
 },
 "nbformat": 4,
 "nbformat_minor": 4
}
