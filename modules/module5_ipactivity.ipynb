{
 "cells": [
  {
   "cell_type": "markdown",
   "metadata": {},
   "source": [
    "# Image Processing Module 5: The power of Thresholds"
   ]
  },
  {
   "cell_type": "markdown",
   "metadata": {},
   "source": [
    "### Purpose: To introduce trainees to the idea of a threshold and its application to immunoflourescent images of brain cells"
   ]
  },
  {
   "cell_type": "markdown",
   "metadata": {},
   "source": [
    "__Priming Activity:__"
   ]
  },
  {
   "cell_type": "markdown",
   "metadata": {},
   "source": [
    "You need to change a lightbulb in your office, but you don't have anything to stand on so the person to change the lightbulb must be able to reach it standing.  Luckily you have a list of your lab mates standing reach!\n",
    "\n",
    "The lightbulb is located 8ft above the ground. \n",
    "\n",
    "Your labmates and their standing reach are included in the table below."
   ]
  },
  {
   "cell_type": "code",
   "execution_count": 15,
   "metadata": {},
   "outputs": [],
   "source": [
    "import pandas as pd\n",
    "data = [['John Krasinki', '6ft 3in', '8ft 3in'],['Steve Carell', '5ft 9in', '7ft 9in'], ['Mindy Kaling', '5ft 4in', '7ft 1in'],['Craig Robinson', '6ft 2in', '8ft 3in'],['Rashida Jones', '5ft 4in', '7ft 4in']]"
   ]
  },
  {
   "cell_type": "code",
   "execution_count": 16,
   "metadata": {},
   "outputs": [
    {
     "data": {
      "text/html": [
       "<div>\n",
       "<style scoped>\n",
       "    .dataframe tbody tr th:only-of-type {\n",
       "        vertical-align: middle;\n",
       "    }\n",
       "\n",
       "    .dataframe tbody tr th {\n",
       "        vertical-align: top;\n",
       "    }\n",
       "\n",
       "    .dataframe thead th {\n",
       "        text-align: right;\n",
       "    }\n",
       "</style>\n",
       "<table border=\"1\" class=\"dataframe\">\n",
       "  <thead>\n",
       "    <tr style=\"text-align: right;\">\n",
       "      <th></th>\n",
       "      <th>Lab Member Name</th>\n",
       "      <th>Lab Member Standing Reach</th>\n",
       "      <th>Labe Member Standing Height</th>\n",
       "    </tr>\n",
       "  </thead>\n",
       "  <tbody>\n",
       "    <tr>\n",
       "      <td>0</td>\n",
       "      <td>John Krasinki</td>\n",
       "      <td>6ft 3in</td>\n",
       "      <td>8ft 3in</td>\n",
       "    </tr>\n",
       "    <tr>\n",
       "      <td>1</td>\n",
       "      <td>Steve Carell</td>\n",
       "      <td>5ft 9in</td>\n",
       "      <td>7ft 9in</td>\n",
       "    </tr>\n",
       "    <tr>\n",
       "      <td>2</td>\n",
       "      <td>Mindy Kaling</td>\n",
       "      <td>5ft 4in</td>\n",
       "      <td>7ft 1in</td>\n",
       "    </tr>\n",
       "    <tr>\n",
       "      <td>3</td>\n",
       "      <td>Craig Robinson</td>\n",
       "      <td>6ft 2in</td>\n",
       "      <td>8ft 3in</td>\n",
       "    </tr>\n",
       "    <tr>\n",
       "      <td>4</td>\n",
       "      <td>Rashida Jones</td>\n",
       "      <td>5ft 4in</td>\n",
       "      <td>7ft 4in</td>\n",
       "    </tr>\n",
       "  </tbody>\n",
       "</table>\n",
       "</div>"
      ],
      "text/plain": [
       "  Lab Member Name Lab Member Standing Reach Labe Member Standing Height\n",
       "0   John Krasinki                   6ft 3in                     8ft 3in\n",
       "1    Steve Carell                   5ft 9in                     7ft 9in\n",
       "2    Mindy Kaling                   5ft 4in                     7ft 1in\n",
       "3  Craig Robinson                   6ft 2in                     8ft 3in\n",
       "4   Rashida Jones                   5ft 4in                     7ft 4in"
      ]
     },
     "execution_count": 16,
     "metadata": {},
     "output_type": "execute_result"
    }
   ],
   "source": [
    "labmate_heights = pd.DataFrame(data, index=None, columns={'Lab Member Name', 'Labe Member Standing Height', 'Lab Member Standing Reach'})\n",
    "labmate_heights"
   ]
  },
  {
   "cell_type": "markdown",
   "metadata": {},
   "source": [
    "Since you aren't sure which office mates are around, you need multiple options of people to look for.  What is the cut-off height of your lab mates to separate those who could or could not change the lightbulb from a standing position?"
   ]
  },
  {
   "cell_type": "code",
   "execution_count": null,
   "metadata": {},
   "outputs": [],
   "source": []
  },
  {
   "cell_type": "markdown",
   "metadata": {},
   "source": [
    "The height you picked above is your __threshold!__  Its the cut off by which you say anyone below this cannot change the lightbulb from a standing position and every one above it should be able to. "
   ]
  },
  {
   "cell_type": "markdown",
   "metadata": {},
   "source": [
    "__Activity:__"
   ]
  },
  {
   "cell_type": "code",
   "execution_count": null,
   "metadata": {},
   "outputs": [],
   "source": []
  },
  {
   "cell_type": "code",
   "execution_count": null,
   "metadata": {},
   "outputs": [],
   "source": []
  },
  {
   "cell_type": "markdown",
   "metadata": {},
   "source": [
    "__Recall:__"
   ]
  },
  {
   "cell_type": "code",
   "execution_count": null,
   "metadata": {},
   "outputs": [],
   "source": []
  }
 ],
 "metadata": {
  "kernelspec": {
   "display_name": "Python 3",
   "language": "python",
   "name": "python3"
  },
  "language_info": {
   "codemirror_mode": {
    "name": "ipython",
    "version": 3
   },
   "file_extension": ".py",
   "mimetype": "text/x-python",
   "name": "python",
   "nbconvert_exporter": "python",
   "pygments_lexer": "ipython3",
   "version": "3.7.4"
  }
 },
 "nbformat": 4,
 "nbformat_minor": 4
}
