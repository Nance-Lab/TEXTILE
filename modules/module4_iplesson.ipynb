{
 "cells": [
  {
   "cell_type": "markdown",
   "metadata": {},
   "source": [
    "# Intro to Image Processing: An Image as Numbers"
   ]
  },
  {
   "cell_type": "markdown",
   "metadata": {},
   "source": [
    "### **Purpose**: To view an image from a computers perspective (as an array of numbers)\n",
    "\n"
   ]
  },
  {
   "cell_type": "markdown",
   "metadata": {},
   "source": [
    "Created by: Hawley Helmbrecht\n",
    "\n",
    "Creation Date: 07/21/2020\n",
    "\n",
    "Last Update:"
   ]
  },
  {
   "cell_type": "markdown",
   "metadata": {},
   "source": [
    "*Step 1: Necessary Imports*"
   ]
  },
  {
   "cell_type": "markdown",
   "metadata": {},
   "source": [
    "In this step, we import all the packages that we will need later on in the document.  \n",
    "\n",
    "We decide to do this all at once rather than throughout because it is standard coding practice that helps create clean code."
   ]
  },
  {
   "cell_type": "code",
   "execution_count": 10,
   "metadata": {},
   "outputs": [],
   "source": [
    "import numpy as np\n",
    "from skimage import io #importing a specific mmodule from scikit-imgae"
   ]
  },
  {
   "cell_type": "markdown",
   "metadata": {},
   "source": [
    "*Step 2: User Inputs*"
   ]
  },
  {
   "cell_type": "markdown",
   "metadata": {},
   "source": [
    "When creating Jupyter Notebooks for use by collaborators and experamentalists, I find it best practice to have a step near the top specifically for the imuts they need for the notebook.\n",
    "\n",
    "In this case, the only input needed is the location of location of the cell.tif file included in this repository."
   ]
  },
  {
   "cell_type": "code",
   "execution_count": 14,
   "metadata": {},
   "outputs": [],
   "source": [
    "#replace the example path from my computer with the path to the image on your computer\n",
    "\n",
    "cell_im_location = '/Users/hhelmbre/Desktop/packages/textile/example_data/ogd_cells.tif'"
   ]
  },
  {
   "cell_type": "markdown",
   "metadata": {},
   "source": [
    "Note: The cell image being read in is from the OGD Severity study by Rick Liao, Andrea Joseph, Mengying Zhang, Mike McKenna, Jeremy Filteau, and Hawley Helmbrecht within the Nance lab. It is an image taken from the thalamus with a costain DAP"
   ]
  },
  {
   "cell_type": "markdown",
   "metadata": {},
   "source": [
    "*Step 3: Reading in the image*"
   ]
  },
  {
   "cell_type": "markdown",
   "metadata": {},
   "source": [
    "The image doesn't exist within the Jupyter Notebook until you actually \"read\" it into the notebooks data storage. To do that we use the scikit-image command io.imread\n",
    "\n",
    "Go ahead and check the imports to see that from skimage (scikit-image) we imported the io module"
   ]
  },
  {
   "cell_type": "code",
   "execution_count": 15,
   "metadata": {},
   "outputs": [],
   "source": [
    "cell_im = io.imread(cell_im_location)"
   ]
  },
  {
   "cell_type": "markdown",
   "metadata": {},
   "source": [
    "*Step 4: Viewing the Image*"
   ]
  },
  {
   "cell_type": "markdown",
   "metadata": {},
   "source": [
    "A huge part of image processing work is to build in actual visual checks of your image. It is easy to get lost in a long session of coding with the assumption that the code is working how you would expect it to. Only to look at the image at the end of the day and have no idea where you went wrong.\n",
    "\n",
    "When I am working on new projects (such as your new project reading an image into a Jupyter Notebook), I build a lot of these \"visual\" checks in."
   ]
  },
  {
   "cell_type": "markdown",
   "metadata": {},
   "source": [
    "*Step 4a: Viewing the Image as the notebook sees it*"
   ]
  },
  {
   "cell_type": "code",
   "execution_count": 16,
   "metadata": {},
   "outputs": [
    {
     "data": {
      "text/plain": [
       "array([[[ 17,  25,   0],\n",
       "        [134, 101,  22],\n",
       "        [  0,  65,  16],\n",
       "        ...,\n",
       "        [251,  16,  26],\n",
       "        [268,  11,  32],\n",
       "        [261,   0,  19]],\n",
       "\n",
       "       [[100, 122,   0],\n",
       "        [ 31, 136,  16],\n",
       "        [ 57,  74,  11],\n",
       "        ...,\n",
       "        [ 79,  14,   0],\n",
       "        [298,   8,  27],\n",
       "        [277,  11,  31]],\n",
       "\n",
       "       [[101,  29,   5],\n",
       "        [ 10,  84,   0],\n",
       "        [ 35, 111,  11],\n",
       "        ...,\n",
       "        [240,  22,   7],\n",
       "        [181,   0,   9],\n",
       "        [256,  15,  29]],\n",
       "\n",
       "       ...,\n",
       "\n",
       "       [[ 24,  22,  10],\n",
       "        [ 16, 140,   9],\n",
       "        [ 70,  78,   2],\n",
       "        ...,\n",
       "        [103,  11,   7],\n",
       "        [  3,   7,   2],\n",
       "        [ 33,   0,   4]],\n",
       "\n",
       "       [[ 17,  80,  10],\n",
       "        [  5,  59,   6],\n",
       "        [  0, 102,   3],\n",
       "        ...,\n",
       "        [ 15,   8,   8],\n",
       "        [ 31,  11,  14],\n",
       "        [137,  15,   0]],\n",
       "\n",
       "       [[ 62,  27,  18],\n",
       "        [ 38,  52,   1],\n",
       "        [ 13,  27,   0],\n",
       "        ...,\n",
       "        [ 42,   0,   9],\n",
       "        [ 33,   1,   9],\n",
       "        [ 81,   0,   0]]], dtype=uint16)"
      ]
     },
     "execution_count": 16,
     "metadata": {},
     "output_type": "execute_result"
    }
   ],
   "source": [
    "cell_im"
   ]
  },
  {
   "cell_type": "markdown",
   "metadata": {},
   "source": [
    "When you run the above cell in Jupyter notebook, you should see an array of numbers!"
   ]
  },
  {
   "cell_type": "markdown",
   "metadata": {},
   "source": [
    "These numbers correlate to pixel values - where pixels are the tiny individual squares that make up an image.  Image building a square made with 1X1 legos. These would correspond to the pixels and the color of each lego corresponds to a specific number"
   ]
  },
  {
   "cell_type": "markdown",
   "metadata": {},
   "source": [
    "In this case our numbers can go anywhere from 0 to 255. Where 0 is actually black and 255 is white and everything else is a value in between!"
   ]
  },
  {
   "cell_type": "markdown",
   "metadata": {},
   "source": [
    "If you read the last statement and think about it in terms of colors though it may get confusing..."
   ]
  },
  {
   "cell_type": "markdown",
   "metadata": {},
   "source": [
    "The 0 to 255 scale in these images actually correlates to tones. Color is represented by different \"channels\""
   ]
  },
  {
   "cell_type": "markdown",
   "metadata": {},
   "source": [
    "Run the next line of code to get the computers version of these channels"
   ]
  },
  {
   "cell_type": "code",
   "execution_count": null,
   "metadata": {},
   "outputs": [],
   "source": []
  },
  {
   "cell_type": "markdown",
   "metadata": {},
   "source": [
    "*Step 4b: Viewing the image in a way that makes sense to us*"
   ]
  },
  {
   "cell_type": "code",
   "execution_count": null,
   "metadata": {},
   "outputs": [],
   "source": []
  },
  {
   "cell_type": "code",
   "execution_count": null,
   "metadata": {},
   "outputs": [],
   "source": []
  }
 ],
 "metadata": {
  "kernelspec": {
   "display_name": "Python 3",
   "language": "python",
   "name": "python3"
  },
  "language_info": {
   "codemirror_mode": {
    "name": "ipython",
    "version": 3
   },
   "file_extension": ".py",
   "mimetype": "text/x-python",
   "name": "python",
   "nbconvert_exporter": "python",
   "pygments_lexer": "ipython3",
   "version": "3.7.4"
  }
 },
 "nbformat": 4,
 "nbformat_minor": 4
}
