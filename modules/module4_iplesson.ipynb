{
 "cells": [
  {
   "cell_type": "markdown",
   "metadata": {},
   "source": [
    "# Intro to Image Processing: An Image as Numbers"
   ]
  },
  {
   "cell_type": "markdown",
   "metadata": {},
   "source": [
    "### **Purpose**: To view an image from a computers perspective (as an array of numbers)\n",
    "\n"
   ]
  },
  {
   "cell_type": "markdown",
   "metadata": {},
   "source": [
    "Created by: Hawley Helmbrecht\n",
    "\n",
    "Creation Date: 07/21/2020\n",
    "\n",
    "Last Update:"
   ]
  },
  {
   "cell_type": "markdown",
   "metadata": {},
   "source": [
    "*Step 1: Necessary Imports*"
   ]
  },
  {
   "cell_type": "markdown",
   "metadata": {},
   "source": [
    "In this step, we import all the packages that we will need later on in the document.  \n",
    "\n",
    "We decide to do this all at once rather than throughout because it is standard coding practice that helps create clean code."
   ]
  },
  {
   "cell_type": "code",
   "execution_count": 10,
   "metadata": {},
   "outputs": [],
   "source": [
    "import numpy as np\n",
    "from skimage import io #importing a specific mmodule from scikit-imgae"
   ]
  },
  {
   "cell_type": "markdown",
   "metadata": {},
   "source": [
    "*Step 2: User Inputs*"
   ]
  },
  {
   "cell_type": "markdown",
   "metadata": {},
   "source": [
    "When creating Jupyter Notebooks for use by collaborators and experamentalists, I find it best practice to have a step near the top specifically for the imuts they need for the notebook.\n",
    "\n",
    "In this case, the only input needed is the location of location of the cell.tif file included in this repository."
   ]
  },
  {
   "cell_type": "code",
   "execution_count": 8,
   "metadata": {},
   "outputs": [],
   "source": [
    "#replace the example path from my computer with the path to the image on your computer\n",
    "\n",
    "cell_im_location = '/Users/hhelmbre/Desktop/packages/textile/example_data/cell.tif'"
   ]
  },
  {
   "cell_type": "markdown",
   "metadata": {},
   "source": [
    "*Step 3: Reading in the image*"
   ]
  },
  {
   "cell_type": "markdown",
   "metadata": {},
   "source": [
    "The image doesn't exist within the Jupyter Notebook until you actually \"read\" it into the notebooks data storage. To do that we use the scikit-image command io.imread\n",
    "\n",
    "Go ahead and check the imports to see that from skimage (scikit-image) we imported the io module"
   ]
  },
  {
   "cell_type": "code",
   "execution_count": 9,
   "metadata": {},
   "outputs": [],
   "source": [
    "cell_im = io.imread(cell_im_location)"
   ]
  },
  {
   "cell_type": "markdown",
   "metadata": {},
   "source": [
    "*Step 4: Viewing the Image*"
   ]
  },
  {
   "cell_type": "markdown",
   "metadata": {},
   "source": [
    "A huge part of image processing work is to build in actual visual checks of your image. It is easy to get lost in a long session of coding with the assumption that the code is working how you would expect it to. Only to look at the image at the end of the day and have no idea where you went wrong.\n",
    "\n",
    "When I am working on new projects (such as your new project reading an image into a Jupyter Notebook), I build a lot of these \"visual\" checks in."
   ]
  },
  {
   "cell_type": "markdown",
   "metadata": {},
   "source": [
    "*Step 4a: Viewing the Image as the notebook sees it*"
   ]
  },
  {
   "cell_type": "code",
   "execution_count": 11,
   "metadata": {},
   "outputs": [
    {
     "data": {
      "text/plain": [
       "array([[[116, 117,  76, ..., 100,  83,  75],\n",
       "        [107,  80,  84, ...,  79,  80,  85],\n",
       "        [ 82, 100, 110, ...,  79,  93,  78],\n",
       "        ...,\n",
       "        [ 81,  78,  84, ...,  96,  77,  81],\n",
       "        [ 78,  89,  76, ...,  80,  86, 103],\n",
       "        [ 81,  81,  85, ...,  91,  92,  78]],\n",
       "\n",
       "       [[  0,   8,   0, ...,   0,   2,   7],\n",
       "        [  0,   3,   0, ...,   2,   2,   0],\n",
       "        [  3,   0,   0, ...,   3,   0,   0],\n",
       "        ...,\n",
       "        [  2,   0,   0, ...,   3,   0,   0],\n",
       "        [  1,   4,   2, ...,   1,   0,   0],\n",
       "        [  0,   1,   0, ...,   0,   0,   1]],\n",
       "\n",
       "       [[114,  97, 107, ...,  78,  80,  90],\n",
       "        [109, 106,  92, ...,  85,  81,  82],\n",
       "        [120, 117,  87, ...,  81,  77,  90],\n",
       "        ...,\n",
       "        [ 73,  89,  80, ...,  89,  86,  85],\n",
       "        [ 87,  89,  77, ...,  89,  86,  91],\n",
       "        [ 80,  78,  82, ..., 116, 117, 126]],\n",
       "\n",
       "       ...,\n",
       "\n",
       "       [[  0,   0,   1, ...,   0,   0,   0],\n",
       "        [  2,   2,   0, ...,   0,   0,   3],\n",
       "        [  1,   8,   3, ...,   2,   1,   0],\n",
       "        ...,\n",
       "        [  1,   1,   0, ...,   2,   0,   5],\n",
       "        [  0,   0,   0, ...,   6,   0,   2],\n",
       "        [  0,   0,   0, ...,   1,   0,   0]],\n",
       "\n",
       "       [[105,  88,  93, ...,  77,  75,  82],\n",
       "        [ 90, 102,  92, ...,  81,  85,  79],\n",
       "        [ 83, 109, 110, ...,  76,  80,  89],\n",
       "        ...,\n",
       "        [ 79,  79,  76, ...,  82,  86,  76],\n",
       "        [ 81,  76,  79, ...,  88,  99,  98],\n",
       "        [ 78,  89,  78, ...,  81, 103,  91]],\n",
       "\n",
       "       [[  2,   2,   0, ...,   3,   0,   0],\n",
       "        [  1,   3,   0, ...,   0,   0,   4],\n",
       "        [  0,   0,   0, ...,   3,   0,   0],\n",
       "        ...,\n",
       "        [  0,   0,   0, ...,   0,   0,   2],\n",
       "        [  2,   4,   1, ...,   0,   0,   3],\n",
       "        [  0,   0,   0, ...,   0,   3,   0]]], dtype=uint16)"
      ]
     },
     "execution_count": 11,
     "metadata": {},
     "output_type": "execute_result"
    }
   ],
   "source": [
    "cell_im"
   ]
  },
  {
   "cell_type": "markdown",
   "metadata": {},
   "source": [
    "When you run the above cell in Jupyter notebook, you should see an array of numbers!"
   ]
  },
  {
   "cell_type": "markdown",
   "metadata": {},
   "source": [
    "These numbers correlate to pixel values - where pixels are the tiny individual squares that make up an image.  Image building a square made with 1X1 legos. These would correspond to the pixels and the color of each lego corresponds to a specific number"
   ]
  },
  {
   "cell_type": "markdown",
   "metadata": {},
   "source": [
    "In this case our numbers can go anywhere from 0 to 255. Where 0 is actually black and 255 is white and everything else is a value in between!"
   ]
  },
  {
   "cell_type": "markdown",
   "metadata": {},
   "source": [
    "If you read the last statement and think about it in terms of colors though it may get confusing..."
   ]
  },
  {
   "cell_type": "markdown",
   "metadata": {},
   "source": [
    "The 0 to 255 scale in these images actually correlates to tones. Color is represented by different \"channels\""
   ]
  },
  {
   "cell_type": "markdown",
   "metadata": {},
   "source": [
    "Run the next line of code to get the computers version of these channels"
   ]
  },
  {
   "cell_type": "code",
   "execution_count": null,
   "metadata": {},
   "outputs": [],
   "source": []
  },
  {
   "cell_type": "markdown",
   "metadata": {},
   "source": [
    "*Step 4b: Viewing the image in a way that makes sense to us*"
   ]
  },
  {
   "cell_type": "code",
   "execution_count": null,
   "metadata": {},
   "outputs": [],
   "source": []
  },
  {
   "cell_type": "code",
   "execution_count": null,
   "metadata": {},
   "outputs": [],
   "source": []
  }
 ],
 "metadata": {
  "kernelspec": {
   "display_name": "Python 3",
   "language": "python",
   "name": "python3"
  },
  "language_info": {
   "codemirror_mode": {
    "name": "ipython",
    "version": 3
   },
   "file_extension": ".py",
   "mimetype": "text/x-python",
   "name": "python",
   "nbconvert_exporter": "python",
   "pygments_lexer": "ipython3",
   "version": "3.7.4"
  }
 },
 "nbformat": 4,
 "nbformat_minor": 4
}
